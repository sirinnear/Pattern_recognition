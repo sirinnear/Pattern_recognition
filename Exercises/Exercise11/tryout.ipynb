{
 "cells": [
  {
   "cell_type": "code",
   "execution_count": 1,
   "metadata": {
    "ExecuteTime": {
     "end_time": "2020-07-13T06:50:44.651369Z",
     "start_time": "2020-07-13T06:50:44.518827Z"
    }
   },
   "outputs": [],
   "source": [
    "import gym\n",
    "from gym import envs"
   ]
  },
  {
   "cell_type": "code",
   "execution_count": 2,
   "metadata": {
    "ExecuteTime": {
     "end_time": "2020-07-13T06:50:44.655340Z",
     "start_time": "2020-07-13T06:50:44.652339Z"
    }
   },
   "outputs": [],
   "source": [
    "import numpy as np\n",
    "import time\n",
    "from IPython.display import clear_output"
   ]
  },
  {
   "cell_type": "code",
   "execution_count": 10,
   "metadata": {
    "ExecuteTime": {
     "end_time": "2020-07-13T06:56:27.440521Z",
     "start_time": "2020-07-13T06:56:27.428519Z"
    }
   },
   "outputs": [],
   "source": [
    "from typing import Dict\n",
    "class QTable:\n",
    "    def __init__(self, env):\n",
    "        self.n_observations = env.observation_space.n\n",
    "        self.n_actions = env.action_space.n\n",
    "        self.table = np.zeros((self.n_observations, self.n_actions))\n",
    "        \n",
    "    def get_action(self, state, epsilon=0.0):\n",
    "        if np.random.rand() < epsilon:\n",
    "            return np.random.randint(0, self.n_actions)\n",
    "        else:\n",
    "            rewards = self.table[state]\n",
    "            best_action = np.argmax(rewards)\n",
    "            return best_action\n",
    "    \n",
    "    def update_table(self, prev_state, next_state, action, reward, alpha=0.1, gamma=0.5):\n",
    "        q = self.table\n",
    "        ps = prev_state\n",
    "        ns = next_state\n",
    "        a = action\n",
    "        q[ps, a] = q[ps, a] + alpha*(reward + gamma*np.max(q[ns]) - q[ps, a])\n",
    "\n",
    "    def evaluate(self, env, n):\n",
    "        scores = []\n",
    "        for i_game in range(n):\n",
    "            env.reset()\n",
    "            total_score = 0\n",
    "            for turn in range(200):\n",
    "                ps = env.env.s\n",
    "                action = self.get_action(ps, 0.0)\n",
    "                ns, reward, done, info = env.step(action)\n",
    "                total_score += reward\n",
    "                if done:\n",
    "                    break\n",
    "            scores.append(total_score)\n",
    "        return np.average(scores)\n",
    "                \n",
    "    def animate(self, env, delay=0.5):\n",
    "        env.reset()\n",
    "        env.render()\n",
    "        time.sleep(delay)\n",
    "        for turn in range(200):\n",
    "            clear_output(True)\n",
    "            ps = env.env.s\n",
    "            action = self.get_action(ps, 0.0)\n",
    "            ns, reward, done, info = env.step(action)\n",
    "            env.render()\n",
    "            print(turn, action)\n",
    "            if not done or turn == 200:\n",
    "                time.sleep(delay)\n",
    "            else:\n",
    "                break\n",
    "        \n",
    "    @classmethod\n",
    "    def learn_from_env(cls, env, n, alpha, gamma, epsilon):\n",
    "        table = QTable(env)\n",
    "        for episode in range(n):\n",
    "            env.reset()\n",
    "            total_score = 0\n",
    "            for turn in range(200):\n",
    "                ps = env.env.s\n",
    "                action = table.get_action(ps, epsilon=epsilon)\n",
    "                ns, reward, done, info = env.step(action)\n",
    "                total_score += reward\n",
    "                table.update_table(ps, ns, action, reward, alpha=alpha, gamma=gamma)\n",
    "                if done:\n",
    "                    break\n",
    "            if episode%1000 == 0:\n",
    "                print(episode, total_score)\n",
    "        return table"
   ]
  },
  {
   "cell_type": "code",
   "execution_count": 11,
   "metadata": {
    "ExecuteTime": {
     "end_time": "2020-07-13T06:57:06.019060Z",
     "start_time": "2020-07-13T06:56:28.229349Z"
    }
   },
   "outputs": [
    {
     "name": "stdout",
     "output_type": "stream",
     "text": [
      "0 -479\n",
      "1000 -168\n",
      "2000 -12\n",
      "3000 2\n",
      "4000 -3\n",
      "5000 7\n",
      "6000 8\n",
      "7000 -31\n",
      "8000 -7\n",
      "9000 -16\n",
      "10000 -8\n",
      "11000 6\n",
      "12000 10\n",
      "13000 -35\n",
      "14000 -17\n",
      "15000 12\n",
      "16000 -17\n",
      "17000 10\n",
      "18000 -2\n",
      "19000 -16\n",
      "20000 -22\n",
      "21000 -6\n",
      "22000 -3\n",
      "23000 6\n",
      "24000 -22\n",
      "25000 4\n",
      "26000 -15\n",
      "27000 11\n",
      "28000 -22\n",
      "29000 -9\n",
      "30000 -4\n",
      "31000 -12\n",
      "32000 -9\n",
      "33000 5\n",
      "34000 0\n",
      "35000 3\n",
      "36000 -8\n",
      "37000 -5\n",
      "38000 -11\n",
      "39000 -10\n",
      "40000 -20\n",
      "41000 0\n",
      "42000 9\n",
      "43000 -7\n",
      "44000 6\n",
      "45000 -10\n",
      "46000 -5\n",
      "47000 8\n",
      "48000 2\n",
      "49000 4\n",
      "50000 -4\n",
      "51000 -2\n",
      "52000 10\n",
      "53000 -42\n",
      "54000 12\n",
      "55000 12\n",
      "56000 8\n",
      "57000 -7\n",
      "58000 -16\n",
      "59000 9\n",
      "60000 -36\n",
      "61000 10\n",
      "62000 -1\n",
      "63000 5\n",
      "64000 -19\n",
      "65000 -9\n",
      "66000 -4\n",
      "67000 -9\n",
      "68000 1\n",
      "69000 -27\n",
      "70000 -2\n",
      "71000 -4\n",
      "72000 6\n",
      "73000 -15\n",
      "74000 -15\n",
      "75000 -20\n",
      "76000 6\n",
      "77000 -30\n",
      "78000 -2\n",
      "79000 -5\n",
      "80000 13\n",
      "81000 3\n",
      "82000 7\n",
      "83000 -26\n",
      "84000 1\n",
      "85000 4\n",
      "86000 4\n",
      "87000 -20\n",
      "88000 -4\n",
      "89000 -2\n",
      "90000 1\n",
      "91000 -13\n",
      "92000 10\n",
      "93000 9\n",
      "94000 11\n",
      "95000 8\n",
      "96000 -11\n",
      "97000 8\n",
      "98000 3\n",
      "99000 1\n"
     ]
    }
   ],
   "source": [
    "np.random.seed(333)\n",
    "env = gym.make('Taxi-v3')\n",
    "table = QTable.learn_from_env(env, n=100000, alpha=0.1, gamma=0.5, epsilon=0.2)\n",
    "\n"
   ]
  },
  {
   "cell_type": "code",
   "execution_count": null,
   "metadata": {
    "ExecuteTime": {
     "start_time": "2020-07-13T07:06:14.285Z"
    }
   },
   "outputs": [
    {
     "name": "stdout",
     "output_type": "stream",
     "text": [
      "+---------+\n",
      "|\u001b[35mR\u001b[0m: | : :\u001b[34;1mG\u001b[0m|\n",
      "| : |\u001b[43m \u001b[0m: : |\n",
      "| : : : : |\n",
      "| | : | : |\n",
      "|Y| : |B: |\n",
      "+---------+\n",
      "  (North)\n",
      "2 1\n"
     ]
    }
   ],
   "source": [
    "for i in range(20):\n",
    "    clear_output(True)\n",
    "    table.animate(env)"
   ]
  },
  {
   "cell_type": "code",
   "execution_count": 12,
   "metadata": {
    "ExecuteTime": {
     "end_time": "2020-07-13T06:57:14.183453Z",
     "start_time": "2020-07-13T06:57:14.028453Z"
    }
   },
   "outputs": [
    {
     "data": {
      "text/plain": [
       "7.875"
      ]
     },
     "execution_count": 12,
     "metadata": {},
     "output_type": "execute_result"
    }
   ],
   "source": [
    "table.evaluate(env, 1000)"
   ]
  },
  {
   "cell_type": "code",
   "execution_count": null,
   "metadata": {},
   "outputs": [],
   "source": []
  }
 ],
 "metadata": {
  "kernelspec": {
   "display_name": "Python 3",
   "language": "python",
   "name": "python3"
  },
  "language_info": {
   "codemirror_mode": {
    "name": "ipython",
    "version": 3
   },
   "file_extension": ".py",
   "mimetype": "text/x-python",
   "name": "python",
   "nbconvert_exporter": "python",
   "pygments_lexer": "ipython3",
   "version": "3.7.5"
  },
  "toc": {
   "base_numbering": 1,
   "nav_menu": {},
   "number_sections": true,
   "sideBar": true,
   "skip_h1_title": false,
   "title_cell": "Table of Contents",
   "title_sidebar": "Contents",
   "toc_cell": false,
   "toc_position": {},
   "toc_section_display": true,
   "toc_window_display": true
  }
 },
 "nbformat": 4,
 "nbformat_minor": 4
}
