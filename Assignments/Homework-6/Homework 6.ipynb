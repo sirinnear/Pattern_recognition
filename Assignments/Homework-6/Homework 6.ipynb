{
 "cells": [
  {
   "cell_type": "markdown",
   "metadata": {},
   "source": [
    "## Problem 1)\n",
    "Since a lot of your guys seem a bit rusty at calculus.\n",
    "Refer to numerator convention from wiki https://en.wikipedia.org/wiki/Matrix_calculus\n",
    "Calculus Basics\n"
   ]
  },
  {
   "cell_type": "markdown",
   "metadata": {},
   "source": [
    "### 1.1) \n",
    "Let \n",
    "$$\\theta(s) = \\frac{1}{1+\\exp(-s)}$$\n",
    "Show that \n",
    "$$\n",
    "\\frac{\\partial}{\\partial x} \\theta(x) = \\theta(x)(1-\\theta(x))\n",
    "$$\n",
    "\n",
    "Blame P' Ohm if the sign is wrong."
   ]
  },
  {
   "cell_type": "markdown",
   "metadata": {},
   "source": [
    "$$\n",
    "\\frac{\\partial}{\\partial x} \\theta(x) = \\frac{exp(-x)}{(1+exp(-x))^2} = \\frac{exp(-x)}{(1+exp(-x))^2} = \\frac{1-1 + exp(-x)}{(1+exp(-x))^2} = \\frac{1 + exp(-x)}{(1+exp(-x))^2} - \\frac{1}{(1+exp(-x))^2} = \\frac{1}{1+exp(-x)}  - \\frac{1}{(1+exp(-x))^2} = \\theta (x) - (\\theta (x))^2 \\\\\n",
    "\\frac{\\partial}{\\partial x} \\theta(x) = \\theta (x)(1 - \\theta (x)) \\\\\n",
    "$$"
   ]
  },
  {
   "cell_type": "markdown",
   "metadata": {},
   "source": [
    "### 1.2) \n",
    "\n",
    "Find (This is the logistic cost function)\n",
    "\n",
    "$$\n",
    "\\frac{\\partial}{\\partial z} y\\ln(\\theta(z)) + (1-y) \\ln(1-\\theta(z)) \n",
    "$$"
   ]
  },
  {
   "cell_type": "markdown",
   "metadata": {},
   "source": [
    "$$\n",
    "\\frac{\\partial}{\\partial z} y\\ln(\\theta(z)) + \\frac{\\partial}{\\partial z}(1-y) \\ln(1-\\theta(z)) \n",
    "$$"
   ]
  },
  {
   "cell_type": "markdown",
   "metadata": {},
   "source": [
    "$$\n",
    "\\frac{\\partial}{\\partial z} y\\ln(\\theta(z)) = y*\\theta (z)(1 - \\theta(z))*\\frac{1}{\\theta(z)} = y(1 - \\theta(z)) = y - y\\theta(z)\n",
    "$$"
   ]
  },
  {
   "cell_type": "markdown",
   "metadata": {},
   "source": [
    "$$\n",
    "\\frac{\\partial}{\\partial z}(1-y) \\ln(1-\\theta(z)) = (1-y)*(-\\theta(z))(1 - \\theta(z))*\\frac{1}{1-\\theta(z)} = (1-y)*(-\\theta(z)) = -\\theta(z) + y\\theta(z)\n",
    "$$"
   ]
  },
  {
   "cell_type": "markdown",
   "metadata": {},
   "source": [
    "$$\n",
    "\\frac{\\partial}{\\partial z} y\\ln(\\theta(z)) + \\frac{\\partial}{\\partial z}(1-y) \\ln(1-\\theta(z)) = y - y\\theta(z) -\\theta(z) + y\\theta(z) = y - \\theta(z)\n",
    "$$"
   ]
  },
  {
   "cell_type": "markdown",
   "metadata": {},
   "source": [
    "### 1.3)\n",
    "\n",
    "Let $w$ be $n_w \\times 1$ matrix. Find\n",
    "\n",
    "$$\\frac{\\partial}{\\partial{w}}w^T$$\n",
    "\n",
    "The most straightforward way is to write out $w^T$ as component and use the definition of vector derivative."
   ]
  },
  {
   "cell_type": "markdown",
   "metadata": {},
   "source": [
    "$$\n",
    "w = \n",
    "\\begin{bmatrix}\n",
    "w_1\\\\\n",
    "w_2 \\\\\n",
    "\\vdots \\\\\n",
    "w_n\n",
    "\\end{bmatrix} \\\\\n",
    "$$"
   ]
  },
  {
   "cell_type": "markdown",
   "metadata": {},
   "source": [
    "$$\n",
    "w^T = w_1 + w_2 + \\dots + w_n\n",
    "$$"
   ]
  },
  {
   "cell_type": "markdown",
   "metadata": {},
   "source": [
    "$$\n",
    "\\frac{\\partial}{\\partial w} w^T = \n",
    "\\begin{bmatrix}\n",
    "\\frac{\\partial w}{\\partial w_1} & \\frac{\\partial w}{\\partial w^2} & \\dots & \\frac{\\partial w}{\\partial w_n}\n",
    "\\end{bmatrix} =\n",
    "\\begin{bmatrix}\n",
    "1 & 0 & \\dots & 0 \\\\\n",
    "0 & 1 & \\dots & 0 \\\\\n",
    "\\vdots & & \\ddots & \\\\\n",
    "0 & 0 & \\dots & 1\n",
    "\\end{bmatrix} = I_{n_w \\times n_w}\n",
    "$$"
   ]
  },
  {
   "cell_type": "markdown",
   "metadata": {},
   "source": [
    "### 1.4)\n",
    "\n",
    "Let $w$ be $n_x \\times 1$ matrix, $x$ be $n_x \\times 1 $ matrix and $b$ be a number\n",
    "Find (be careful with transpose)\n",
    "\n",
    "$$\n",
    "    \\frac{\\partial}{\\partial \\vec{w}} w^Tx + b\n",
    "$$"
   ]
  },
  {
   "cell_type": "markdown",
   "metadata": {},
   "source": [
    "$$\n",
    "w = \n",
    "\\begin{bmatrix}\n",
    "w_1 \\\\ w_2 \\\\ \\vdots \\\\ w_n\n",
    "\\end{bmatrix}\n",
    "$$"
   ]
  },
  {
   "cell_type": "markdown",
   "metadata": {},
   "source": [
    "$$\n",
    "x = \n",
    "\\begin{bmatrix}\n",
    "x_1 \\\\ x_2 \\\\ \\vdots \\\\ x_n\n",
    "\\end{bmatrix}\n",
    "$$"
   ]
  },
  {
   "cell_type": "markdown",
   "metadata": {},
   "source": [
    "$$\n",
    "w^Tx = \n",
    "\\begin{bmatrix}\n",
    "w_1 & w_2 & \\dots & w_n\n",
    "\\end{bmatrix}\n",
    "\\begin{bmatrix}\n",
    "x_1 \\\\ x_2 \\\\ \\vdots \\\\ x_n\n",
    "\\end{bmatrix} = \n",
    "w_1x_1 + w_2x_2 + \\dots + w_nx_n = f\n",
    "$$"
   ]
  },
  {
   "cell_type": "markdown",
   "metadata": {},
   "source": [
    "$$\n",
    "    \\frac{\\partial}{\\partial \\vec{w}} w^Tx = \\frac{\\partial}{\\partial \\vec{w}} f = \n",
    "    \\frac{\\partial f}{\\partial w_1} + \\frac{\\partial f}{\\partial w_2} + \\dots + \\frac{\\partial f}{\\partial w_n} = \n",
    "    x_1 + x_2 + \\dots + x_n = x^T\n",
    "$$"
   ]
  },
  {
   "cell_type": "markdown",
   "metadata": {},
   "source": [
    "$$\n",
    "    \\frac{\\partial}{\\partial \\vec{w}} w^Tx + b = x^T\n",
    "$$"
   ]
  },
  {
   "cell_type": "markdown",
   "metadata": {},
   "source": [
    "### 1.5)\n",
    "\n",
    "Find $$\n",
    "\\frac{\\partial}{\\partial \\vec{w}} y\\ln(\\theta(z)) + (1-y) \\ln(1-\\theta(z)) \n",
    "$$\n",
    "\n",
    "where $$\n",
    "    z = w^Tx + b\n",
    "$$\n",
    "\n",
    "Note: Make a little proof to convince your self that this is the log likelihood cost function with 0,1 class(instead of positive negative)."
   ]
  },
  {
   "cell_type": "markdown",
   "metadata": {},
   "source": [
    "$$\n",
    "\\frac{\\partial}{\\partial \\vec{w}} y\\ln(\\theta(w^Tx + b)) + \\frac{\\partial}{\\partial \\vec{w}}(1-y) \\ln(1-\\theta(w^Tx + b))\n",
    "$$"
   ]
  },
  {
   "cell_type": "markdown",
   "metadata": {},
   "source": [
    "$$\n",
    "\\frac{\\partial}{\\partial \\vec{w}} y\\ln(\\theta(z)) = y*(x^T)* \\theta (z)(1 - \\theta(z))*\\frac{1}{\\theta(z)} = y*(x^T)*(1 - \\theta(z)) = x^Ty*(1 - \\theta(z)) = x^Ty - x^Ty\\theta(z)\n",
    "$$"
   ]
  },
  {
   "cell_type": "markdown",
   "metadata": {},
   "source": [
    "$$\n",
    "\\frac{\\partial}{\\partial \\vec{w}}(1-y) \\ln(1-\\theta(z)) = (1-y)*(x^T)*(-\\theta(z)(1-\\theta(z)*\\frac{1}{1-\\theta(z)} = (1-y)*(x^T)*(-\\theta(z) = (x^T - x^Ty)(-\\theta(z) = -x^T\\theta(z) + x^Ty\\theta(z)\n",
    "$$"
   ]
  },
  {
   "cell_type": "markdown",
   "metadata": {},
   "source": [
    "$$\n",
    "\\frac{\\partial}{\\partial \\vec{w}} y\\ln(\\theta(z)) + \\frac{\\partial}{\\partial \\vec{w}}(1-y) \\ln(1-\\theta(z)) = x^Ty - x^Ty\\theta(z) -x^T\\theta(z) + x^Ty\\theta(z) = x^Ty - x^T\\theta(z)\n",
    "$$"
   ]
  },
  {
   "cell_type": "markdown",
   "metadata": {},
   "source": [
    "### 1.6)\n",
    "\n",
    "Using vector derivative we learned in class to day to show that \n",
    "Minimization of (least square cost)\n",
    "$$\n",
    "f(\\vec{w}) =  ||X^T w - y||_2 = (X^T w - y)^2 = (X^T w - y)^T(X^T w - y)\n",
    "$$ \n",
    "leads to exactly the normal equation we had in Numerical Methods.\n",
    "\n",
    "$$\n",
    "    \\vec{w}^* = (XX^T)^{-1}Xy\n",
    "$$\n",
    "\n",
    "Where $X$ is an $n \\times M$ matrix, $w$ is an $n\\times 1$ matrix and $y$ is $M \\times 1$ matrix."
   ]
  },
  {
   "cell_type": "markdown",
   "metadata": {},
   "source": [
    "$$\n",
    "\\frac{\\partial}{\\partial \\vec{w}} f(\\vec{w}) = \\frac{\\partial}{\\partial \\vec{w}} (X^Tw - y)^T(X^Tw-y) = \\frac{\\partial}{\\partial \\vec{w}} (Xw^T - y^T)(X^Tw - y) = \\frac{\\partial}{\\partial \\vec{w}} (XX^Tww^T - Xw^Ty - X^Twy^T + yy^T)\n",
    "$$"
   ]
  },
  {
   "cell_type": "markdown",
   "metadata": {},
   "source": [
    "Since \n",
    "$\n",
    "Xw^Ty = X^Twy^T \\Rightarrow Xw^Ty + X^Twy^T = 2Xw^Ty\n",
    "$"
   ]
  },
  {
   "cell_type": "markdown",
   "metadata": {},
   "source": [
    "$$\n",
    "\\frac{\\partial}{\\partial \\vec{w}} (XX^Tww^T - 2Xw^Ty + yy^T) = \\frac{\\partial}{\\partial \\vec{w}} (w^TXw)(X^T) - \\frac{\\partial}{\\partial \\vec{w}} (w^Ty)(2X) + \\frac{\\partial}{\\partial \\vec{w}} yy^T = 2XX^Tw - 2Xy = 0\n",
    "$$"
   ]
  },
  {
   "cell_type": "markdown",
   "metadata": {},
   "source": [
    "$$\n",
    "2XX^T \\vec{w} - 2Xy = 0 \\Rightarrow 2XX^T \\vec{w} = 2Xy \\Rightarrow 2\\vec{w}^* = (XX^T)^{-1}2Xy \\Rightarrow \\vec{w}^* = (XX^T)^{-1}Xy\n",
    "$$"
   ]
  },
  {
   "cell_type": "markdown",
   "metadata": {},
   "source": [
    "### 1.7) \n",
    "\n",
    "Show that optimization of\n",
    "\n",
    "$$\n",
    "    f(x) = x^T A x + b^T x + c\n",
    "$$\n",
    "\n",
    "subject to $$x^Tx = 1$$\n",
    "\n",
    "Leads to an eigen value problem\n",
    "\n",
    "$$\\Sigma x = \\lambda x$$\n",
    "\n",
    "find $\\Sigma$"
   ]
  },
  {
   "cell_type": "markdown",
   "metadata": {},
   "source": [
    "$$\n",
    "\\frac{\\partial}{\\partial x} x^TAx + b^Tx + c = (A+A^T)x + b^T\n",
    "$$"
   ]
  },
  {
   "cell_type": "markdown",
   "metadata": {},
   "source": [
    "$$\n",
    "\\frac{\\partial}{\\partial x} x^Tx = x\n",
    "$$"
   ]
  },
  {
   "cell_type": "markdown",
   "metadata": {},
   "source": [
    "$$\n",
    "(A + A^T)x + b^T = \\lambda x \\Rightarrow \\Rightarrow (A + A^T + \\frac{b^T}{x})x = \\lambda x\n",
    "$$"
   ]
  },
  {
   "cell_type": "markdown",
   "metadata": {},
   "source": [
    "$$\n",
    "\\sum = A + A^T + \\frac{b^T}{x}\n",
    "$$"
   ]
  },
  {
   "cell_type": "markdown",
   "metadata": {},
   "source": [
    "### Problem 2) \n",
    "\n",
    "Given USPS Data we used in class\n",
    "\n",
    "1.1) Use PCA to reduce the images to 20 features and classify it on test data. Report the error on test data set."
   ]
  },
  {
   "cell_type": "code",
   "execution_count": 8,
   "metadata": {},
   "outputs": [],
   "source": [
    "%matplotlib inline\n",
    "from scipy.io import loadmat\n",
    "import numpy as np\n",
    "from matplotlib import pyplot as plt\n",
    "import matplotlib.cm as cm\n",
    "\n",
    "import sklearn as sk\n",
    "from sklearn.pipeline import Pipeline\n",
    "from sklearn.decomposition import PCA\n",
    "from sklearn.linear_model import LogisticRegression"
   ]
  },
  {
   "cell_type": "code",
   "execution_count": 9,
   "metadata": {},
   "outputs": [],
   "source": [
    "D = loadmat('usps_resampled/usps_resampled.mat')"
   ]
  },
  {
   "cell_type": "code",
   "execution_count": 19,
   "metadata": {},
   "outputs": [
    {
     "name": "stdout",
     "output_type": "stream",
     "text": [
      "(256, 4649)\n"
     ]
    },
    {
     "data": {
      "image/png": "[encoded data removed]",
      "text/plain": [
       "<Figure size 432x288 with 1 Axes>"
      ]
     },
     "metadata": {
      "needs_background": "light"
     },
     "output_type": "display_data"
    }
   ],
   "source": [
    "images = D['train_patterns']\n",
    "print(images.shape)\n",
    "def show(img):\n",
    "    im = img.reshape(16,16) #you can try print it\n",
    "    plt.imshow(im, interpolation='none', cmap=cm.Greys)\n",
    "show(images[:,0])\n",
    "\n",
    "labels = np.argmax(D['train_labels'], axis=0)"
   ]
  },
  {
   "cell_type": "code",
   "execution_count": 11,
   "metadata": {},
   "outputs": [],
   "source": [
    "pipe = Pipeline([\n",
    "    ('pca', PCA(20)),\n",
    "    ('logistic', LogisticRegression())\n",
    "])"
   ]
  },
  {
   "cell_type": "code",
   "execution_count": 12,
   "metadata": {},
   "outputs": [
    {
     "name": "stderr",
     "output_type": "stream",
     "text": [
      "C:\\Users\\Public\\Anaconda3\\lib\\site-packages\\sklearn\\linear_model\\_logistic.py:940: ConvergenceWarning: lbfgs failed to converge (status=1):\n",
      "STOP: TOTAL NO. of ITERATIONS REACHED LIMIT.\n",
      "\n",
      "Increase the number of iterations (max_iter) or scale the data as shown in:\n",
      "    https://scikit-learn.org/stable/modules/preprocessing.html\n",
      "Please also refer to the documentation for alternative solver options:\n",
      "    https://scikit-learn.org/stable/modules/linear_model.html#logistic-regression\n",
      "  extra_warning_msg=_LOGISTIC_SOLVER_CONVERGENCE_MSG)\n"
     ]
    },
    {
     "data": {
      "text/plain": [
       "Pipeline(memory=None,\n",
       "         steps=[('pca',\n",
       "                 PCA(copy=True, iterated_power='auto', n_components=20,\n",
       "                     random_state=None, svd_solver='auto', tol=0.0,\n",
       "                     whiten=False)),\n",
       "                ('logistic',\n",
       "                 LogisticRegression(C=1.0, class_weight=None, dual=False,\n",
       "                                    fit_intercept=True, intercept_scaling=1,\n",
       "                                    l1_ratio=None, max_iter=100,\n",
       "                                    multi_class='auto', n_jobs=None,\n",
       "                                    penalty='l2', random_state=None,\n",
       "                                    solver='lbfgs', tol=0.0001, verbose=0,\n",
       "                                    warm_start=False))],\n",
       "         verbose=False)"
      ]
     },
     "execution_count": 12,
     "metadata": {},
     "output_type": "execute_result"
    }
   ],
   "source": [
    "pipe.fit(images.T, labels)"
   ]
  },
  {
   "cell_type": "code",
   "execution_count": 14,
   "metadata": {},
   "outputs": [],
   "source": [
    "result = pipe.predict(images.T)"
   ]
  },
  {
   "cell_type": "code",
   "execution_count": 16,
   "metadata": {},
   "outputs": [
    {
     "name": "stdout",
     "output_type": "stream",
     "text": [
      "0.9346095934609594\n",
      "4649\n"
     ]
    }
   ],
   "source": [
    "print(np.sum(labels==result)/ len(result))\n",
    "print(len(result))"
   ]
  },
  {
   "cell_type": "code",
   "execution_count": 15,
   "metadata": {},
   "outputs": [],
   "source": [
    "test_images = D['test_patterns']\n",
    "test_labels = np.argmax(D['test_labels'], axis=0)"
   ]
  },
  {
   "cell_type": "code",
   "execution_count": 17,
   "metadata": {},
   "outputs": [
    {
     "name": "stdout",
     "output_type": "stream",
     "text": [
      "0.9244998924499892\n",
      "4649\n"
     ]
    }
   ],
   "source": [
    "test_result = pipe.predict(test_images.T)\n",
    "print(np.sum(test_labels==test_result)/ len(test_result))\n",
    "print(len(test_result))"
   ]
  },
  {
   "cell_type": "markdown",
   "metadata": {},
   "source": [
    "1.2) Plot classifier performance(y axis)(%correct) against the number of feature kept."
   ]
  },
  {
   "cell_type": "code",
   "execution_count": null,
   "metadata": {},
   "outputs": [],
   "source": []
  }
 ],
 "metadata": {
  "kernelspec": {
   "display_name": "Python 3",
   "language": "python",
   "name": "python3"
  },
  "language_info": {
   "codemirror_mode": {
    "name": "ipython",
    "version": 3
   },
   "file_extension": ".py",
   "mimetype": "text/x-python",
   "name": "python",
   "nbconvert_exporter": "python",
   "pygments_lexer": "ipython3",
   "version": "3.7.4"
  },
  "toc": {
   "colors": {
    "hover_highlight": "#DAA520",
    "running_highlight": "#FF0000",
    "selected_highlight": "#FFD700"
   },
   "moveMenuLeft": true,
   "nav_menu": {
    "height": "174px",
    "width": "252px"
   },
   "navigate_menu": true,
   "number_sections": false,
   "sideBar": true,
   "threshold": 4,
   "toc_cell": false,
   "toc_section_display": "block",
   "toc_window_display": false
  }
 },
 "nbformat": 4,
 "nbformat_minor": 2
}
