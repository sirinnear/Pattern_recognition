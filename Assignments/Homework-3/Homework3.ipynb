{
 "cells": [
  {
   "cell_type": "code",
   "execution_count": 66,
   "metadata": {},
   "outputs": [],
   "source": [
    "import numpy as np\n",
    "from matplotlib import pyplot as plt"
   ]
  },
  {
   "cell_type": "markdown",
   "metadata": {},
   "source": [
    "# Problem 1. Predicting Insurance Cost.\n",
    "\n",
    "The goal for this problem is to get you to do the whole process of splitting data, train a whole bunch of model, do validation and report the **performance**.\n",
    "\n",
    "Using the data from kaggle. https://www.kaggle.com/mirichoi0218/insurance/home\n",
    "\n",
    "**Part 1)** \n",
    "Write a function \n",
    "```python\n",
    "def predict_insurance(features):\n",
    "    return predicted_insurance_cost\n",
    "```\n",
    "\n",
    "Specification/Hint:\n",
    " - Using linear function of features is a bad idea since features such as BMI has a healthy value in the middle. Do something more fancy.\n",
    " - You must transform categorical feature in to ordinal feature. (unless there are 2 choices)\n",
    " - You must train and validate your model.\n",
    " - Explain what you are doing and plot something to show that what you are doing is correct.\n"
   ]
  },
  {
   "cell_type": "code",
   "execution_count": 260,
   "metadata": {},
   "outputs": [
    {
     "data": {
      "text/html": [
       "<div>\n",
       "<style scoped>\n",
       "    .dataframe tbody tr th:only-of-type {\n",
       "        vertical-align: middle;\n",
       "    }\n",
       "\n",
       "    .dataframe tbody tr th {\n",
       "        vertical-align: top;\n",
       "    }\n",
       "\n",
       "    .dataframe thead th {\n",
       "        text-align: right;\n",
       "    }\n",
       "</style>\n",
       "<table border=\"1\" class=\"dataframe\">\n",
       "  <thead>\n",
       "    <tr style=\"text-align: right;\">\n",
       "      <th></th>\n",
       "      <th>age</th>\n",
       "      <th>sex</th>\n",
       "      <th>bmi</th>\n",
       "      <th>children</th>\n",
       "      <th>smoker</th>\n",
       "      <th>region</th>\n",
       "      <th>charges</th>\n",
       "    </tr>\n",
       "  </thead>\n",
       "  <tbody>\n",
       "    <tr>\n",
       "      <td>0</td>\n",
       "      <td>19</td>\n",
       "      <td>female</td>\n",
       "      <td>27.900</td>\n",
       "      <td>0</td>\n",
       "      <td>yes</td>\n",
       "      <td>southwest</td>\n",
       "      <td>16884.92400</td>\n",
       "    </tr>\n",
       "    <tr>\n",
       "      <td>1</td>\n",
       "      <td>18</td>\n",
       "      <td>male</td>\n",
       "      <td>33.770</td>\n",
       "      <td>1</td>\n",
       "      <td>no</td>\n",
       "      <td>southeast</td>\n",
       "      <td>1725.55230</td>\n",
       "    </tr>\n",
       "    <tr>\n",
       "      <td>2</td>\n",
       "      <td>28</td>\n",
       "      <td>male</td>\n",
       "      <td>33.000</td>\n",
       "      <td>3</td>\n",
       "      <td>no</td>\n",
       "      <td>southeast</td>\n",
       "      <td>4449.46200</td>\n",
       "    </tr>\n",
       "    <tr>\n",
       "      <td>3</td>\n",
       "      <td>33</td>\n",
       "      <td>male</td>\n",
       "      <td>22.705</td>\n",
       "      <td>0</td>\n",
       "      <td>no</td>\n",
       "      <td>northwest</td>\n",
       "      <td>21984.47061</td>\n",
       "    </tr>\n",
       "    <tr>\n",
       "      <td>4</td>\n",
       "      <td>32</td>\n",
       "      <td>male</td>\n",
       "      <td>28.880</td>\n",
       "      <td>0</td>\n",
       "      <td>no</td>\n",
       "      <td>northwest</td>\n",
       "      <td>3866.85520</td>\n",
       "    </tr>\n",
       "    <tr>\n",
       "      <td>...</td>\n",
       "      <td>...</td>\n",
       "      <td>...</td>\n",
       "      <td>...</td>\n",
       "      <td>...</td>\n",
       "      <td>...</td>\n",
       "      <td>...</td>\n",
       "      <td>...</td>\n",
       "    </tr>\n",
       "    <tr>\n",
       "      <td>1333</td>\n",
       "      <td>50</td>\n",
       "      <td>male</td>\n",
       "      <td>30.970</td>\n",
       "      <td>3</td>\n",
       "      <td>no</td>\n",
       "      <td>northwest</td>\n",
       "      <td>10600.54830</td>\n",
       "    </tr>\n",
       "    <tr>\n",
       "      <td>1334</td>\n",
       "      <td>18</td>\n",
       "      <td>female</td>\n",
       "      <td>31.920</td>\n",
       "      <td>0</td>\n",
       "      <td>no</td>\n",
       "      <td>northeast</td>\n",
       "      <td>2205.98080</td>\n",
       "    </tr>\n",
       "    <tr>\n",
       "      <td>1335</td>\n",
       "      <td>18</td>\n",
       "      <td>female</td>\n",
       "      <td>36.850</td>\n",
       "      <td>0</td>\n",
       "      <td>no</td>\n",
       "      <td>southeast</td>\n",
       "      <td>1629.83350</td>\n",
       "    </tr>\n",
       "    <tr>\n",
       "      <td>1336</td>\n",
       "      <td>21</td>\n",
       "      <td>female</td>\n",
       "      <td>25.800</td>\n",
       "      <td>0</td>\n",
       "      <td>no</td>\n",
       "      <td>southwest</td>\n",
       "      <td>2007.94500</td>\n",
       "    </tr>\n",
       "    <tr>\n",
       "      <td>1337</td>\n",
       "      <td>61</td>\n",
       "      <td>female</td>\n",
       "      <td>29.070</td>\n",
       "      <td>0</td>\n",
       "      <td>yes</td>\n",
       "      <td>northwest</td>\n",
       "      <td>29141.36030</td>\n",
       "    </tr>\n",
       "  </tbody>\n",
       "</table>\n",
       "<p>1338 rows × 7 columns</p>\n",
       "</div>"
      ],
      "text/plain": [
       "      age     sex     bmi  children smoker     region      charges\n",
       "0      19  female  27.900         0    yes  southwest  16884.92400\n",
       "1      18    male  33.770         1     no  southeast   1725.55230\n",
       "2      28    male  33.000         3     no  southeast   4449.46200\n",
       "3      33    male  22.705         0     no  northwest  21984.47061\n",
       "4      32    male  28.880         0     no  northwest   3866.85520\n",
       "...   ...     ...     ...       ...    ...        ...          ...\n",
       "1333   50    male  30.970         3     no  northwest  10600.54830\n",
       "1334   18  female  31.920         0     no  northeast   2205.98080\n",
       "1335   18  female  36.850         0     no  southeast   1629.83350\n",
       "1336   21  female  25.800         0     no  southwest   2007.94500\n",
       "1337   61  female  29.070         0    yes  northwest  29141.36030\n",
       "\n",
       "[1338 rows x 7 columns]"
      ]
     },
     "execution_count": 260,
     "metadata": {},
     "output_type": "execute_result"
    }
   ],
   "source": [
    "import pandas as pd\n",
    "\n",
    "df = pd.read_csv('data\\datasets_13720_18513_insurance.csv')\n",
    "\n",
    "df"
   ]
  },
  {
   "cell_type": "code",
   "execution_count": 261,
   "metadata": {},
   "outputs": [],
   "source": [
    "def pad_data(x):\n",
    "    return np.pad(x, ((0,0), (1,0)), constant_values=1.)"
   ]
  },
  {
   "cell_type": "code",
   "execution_count": 322,
   "metadata": {},
   "outputs": [],
   "source": [
    "from scipy.optimize import minimize\n",
    "from scipy.special import expit\n",
    "\n",
    "class Logistic:\n",
    "    def __init__(self, w = None):\n",
    "        self.w = w\n",
    "    def train(self, xs, ys, w0 = None):\n",
    "#         padded_xs = pad_data(xs)\n",
    "        \n",
    "        if w0 is None:\n",
    "            w0 = np.array([0.]*xs.shape[1])\n",
    "        def cost(w):\n",
    "            p = expit(ys * np.dot(xs, w))\n",
    "            return -np.sum(np.log(p))\n",
    "        \n",
    "        res = minimize(cost, w0)\n",
    "        self.w = res.x\n",
    "        if not res.success:\n",
    "            warnings.warn(res.message)\n",
    "        return self\n",
    "        \n",
    "    def predict_insurance(features):\n",
    "        pass"
   ]
  },
  {
   "cell_type": "code",
   "execution_count": 263,
   "metadata": {},
   "outputs": [
    {
     "data": {
      "text/plain": [
       "(array([353., 459., 288., 135.,  63.,  20.,  11.,   6.,   1.,   2.]),\n",
       " array([  4065.356736 ,  18656.3409921,  33247.3252482,  47838.3095043,\n",
       "         62429.2937604,  77020.2780165,  91611.2622726, 106202.2465287,\n",
       "        120793.2307848, 135384.2150409, 149975.199297 ]),\n",
       " <a list of 10 Patch objects>)"
      ]
     },
     "execution_count": 263,
     "metadata": {},
     "output_type": "execute_result"
    },
    {
     "data": {
      "image/png": "[encoded data removed]",
      "text/plain": [
       "<Figure size 432x288 with 1 Axes>"
      ]
     },
     "metadata": {
      "needs_background": "light"
     },
     "output_type": "display_data"
    }
   ],
   "source": [
    "plt.hist(df['bmi']**3)"
   ]
  },
  {
   "cell_type": "code",
   "execution_count": 265,
   "metadata": {},
   "outputs": [],
   "source": [
    "# df['bmi'] = pd.cut(df['bmi'], 9)\n",
    "df['bmi'] = df['bmi']**3"
   ]
  },
  {
   "cell_type": "code",
   "execution_count": 266,
   "metadata": {
    "scrolled": true
   },
   "outputs": [
    {
     "data": {
      "text/html": [
       "<div>\n",
       "<style scoped>\n",
       "    .dataframe tbody tr th:only-of-type {\n",
       "        vertical-align: middle;\n",
       "    }\n",
       "\n",
       "    .dataframe tbody tr th {\n",
       "        vertical-align: top;\n",
       "    }\n",
       "\n",
       "    .dataframe thead th {\n",
       "        text-align: right;\n",
       "    }\n",
       "</style>\n",
       "<table border=\"1\" class=\"dataframe\">\n",
       "  <thead>\n",
       "    <tr style=\"text-align: right;\">\n",
       "      <th></th>\n",
       "      <th>bmi</th>\n",
       "    </tr>\n",
       "  </thead>\n",
       "  <tbody>\n",
       "    <tr>\n",
       "      <td>0</td>\n",
       "      <td>21717.639000</td>\n",
       "    </tr>\n",
       "    <tr>\n",
       "      <td>1</td>\n",
       "      <td>38511.743633</td>\n",
       "    </tr>\n",
       "    <tr>\n",
       "      <td>2</td>\n",
       "      <td>35937.000000</td>\n",
       "    </tr>\n",
       "    <tr>\n",
       "      <td>3</td>\n",
       "      <td>11704.814053</td>\n",
       "    </tr>\n",
       "    <tr>\n",
       "      <td>4</td>\n",
       "      <td>24087.491072</td>\n",
       "    </tr>\n",
       "    <tr>\n",
       "      <td>...</td>\n",
       "      <td>...</td>\n",
       "    </tr>\n",
       "    <tr>\n",
       "      <td>1333</td>\n",
       "      <td>29704.593673</td>\n",
       "    </tr>\n",
       "    <tr>\n",
       "      <td>1334</td>\n",
       "      <td>32522.853888</td>\n",
       "    </tr>\n",
       "    <tr>\n",
       "      <td>1335</td>\n",
       "      <td>50039.444125</td>\n",
       "    </tr>\n",
       "    <tr>\n",
       "      <td>1336</td>\n",
       "      <td>17173.512000</td>\n",
       "    </tr>\n",
       "    <tr>\n",
       "      <td>1337</td>\n",
       "      <td>24566.036643</td>\n",
       "    </tr>\n",
       "  </tbody>\n",
       "</table>\n",
       "<p>1338 rows × 1 columns</p>\n",
       "</div>"
      ],
      "text/plain": [
       "               bmi\n",
       "0     21717.639000\n",
       "1     38511.743633\n",
       "2     35937.000000\n",
       "3     11704.814053\n",
       "4     24087.491072\n",
       "...            ...\n",
       "1333  29704.593673\n",
       "1334  32522.853888\n",
       "1335  50039.444125\n",
       "1336  17173.512000\n",
       "1337  24566.036643\n",
       "\n",
       "[1338 rows x 1 columns]"
      ]
     },
     "execution_count": 266,
     "metadata": {},
     "output_type": "execute_result"
    }
   ],
   "source": [
    "df[['bmi']]"
   ]
  },
  {
   "cell_type": "code",
   "execution_count": 267,
   "metadata": {},
   "outputs": [],
   "source": [
    "from sklearn.preprocessing import OneHotEncoder\n",
    "\n",
    "encoder = OneHotEncoder()"
   ]
  },
  {
   "cell_type": "code",
   "execution_count": 268,
   "metadata": {
    "scrolled": true
   },
   "outputs": [
    {
     "data": {
      "text/html": [
       "<div>\n",
       "<style scoped>\n",
       "    .dataframe tbody tr th:only-of-type {\n",
       "        vertical-align: middle;\n",
       "    }\n",
       "\n",
       "    .dataframe tbody tr th {\n",
       "        vertical-align: top;\n",
       "    }\n",
       "\n",
       "    .dataframe thead th {\n",
       "        text-align: right;\n",
       "    }\n",
       "</style>\n",
       "<table border=\"1\" class=\"dataframe\">\n",
       "  <thead>\n",
       "    <tr style=\"text-align: right;\">\n",
       "      <th></th>\n",
       "      <th>age</th>\n",
       "      <th>bmi</th>\n",
       "      <th>children</th>\n",
       "      <th>charges</th>\n",
       "      <th>sex_female</th>\n",
       "      <th>sex_male</th>\n",
       "      <th>smoker_no</th>\n",
       "      <th>smoker_yes</th>\n",
       "      <th>region_northeast</th>\n",
       "      <th>region_northwest</th>\n",
       "      <th>region_southeast</th>\n",
       "      <th>region_southwest</th>\n",
       "    </tr>\n",
       "  </thead>\n",
       "  <tbody>\n",
       "    <tr>\n",
       "      <td>0</td>\n",
       "      <td>19</td>\n",
       "      <td>21717.639000</td>\n",
       "      <td>0</td>\n",
       "      <td>16884.92400</td>\n",
       "      <td>1</td>\n",
       "      <td>0</td>\n",
       "      <td>0</td>\n",
       "      <td>1</td>\n",
       "      <td>0</td>\n",
       "      <td>0</td>\n",
       "      <td>0</td>\n",
       "      <td>1</td>\n",
       "    </tr>\n",
       "    <tr>\n",
       "      <td>1</td>\n",
       "      <td>18</td>\n",
       "      <td>38511.743633</td>\n",
       "      <td>1</td>\n",
       "      <td>1725.55230</td>\n",
       "      <td>0</td>\n",
       "      <td>1</td>\n",
       "      <td>1</td>\n",
       "      <td>0</td>\n",
       "      <td>0</td>\n",
       "      <td>0</td>\n",
       "      <td>1</td>\n",
       "      <td>0</td>\n",
       "    </tr>\n",
       "    <tr>\n",
       "      <td>2</td>\n",
       "      <td>28</td>\n",
       "      <td>35937.000000</td>\n",
       "      <td>3</td>\n",
       "      <td>4449.46200</td>\n",
       "      <td>0</td>\n",
       "      <td>1</td>\n",
       "      <td>1</td>\n",
       "      <td>0</td>\n",
       "      <td>0</td>\n",
       "      <td>0</td>\n",
       "      <td>1</td>\n",
       "      <td>0</td>\n",
       "    </tr>\n",
       "    <tr>\n",
       "      <td>3</td>\n",
       "      <td>33</td>\n",
       "      <td>11704.814053</td>\n",
       "      <td>0</td>\n",
       "      <td>21984.47061</td>\n",
       "      <td>0</td>\n",
       "      <td>1</td>\n",
       "      <td>1</td>\n",
       "      <td>0</td>\n",
       "      <td>0</td>\n",
       "      <td>1</td>\n",
       "      <td>0</td>\n",
       "      <td>0</td>\n",
       "    </tr>\n",
       "    <tr>\n",
       "      <td>4</td>\n",
       "      <td>32</td>\n",
       "      <td>24087.491072</td>\n",
       "      <td>0</td>\n",
       "      <td>3866.85520</td>\n",
       "      <td>0</td>\n",
       "      <td>1</td>\n",
       "      <td>1</td>\n",
       "      <td>0</td>\n",
       "      <td>0</td>\n",
       "      <td>1</td>\n",
       "      <td>0</td>\n",
       "      <td>0</td>\n",
       "    </tr>\n",
       "    <tr>\n",
       "      <td>...</td>\n",
       "      <td>...</td>\n",
       "      <td>...</td>\n",
       "      <td>...</td>\n",
       "      <td>...</td>\n",
       "      <td>...</td>\n",
       "      <td>...</td>\n",
       "      <td>...</td>\n",
       "      <td>...</td>\n",
       "      <td>...</td>\n",
       "      <td>...</td>\n",
       "      <td>...</td>\n",
       "      <td>...</td>\n",
       "    </tr>\n",
       "    <tr>\n",
       "      <td>1333</td>\n",
       "      <td>50</td>\n",
       "      <td>29704.593673</td>\n",
       "      <td>3</td>\n",
       "      <td>10600.54830</td>\n",
       "      <td>0</td>\n",
       "      <td>1</td>\n",
       "      <td>1</td>\n",
       "      <td>0</td>\n",
       "      <td>0</td>\n",
       "      <td>1</td>\n",
       "      <td>0</td>\n",
       "      <td>0</td>\n",
       "    </tr>\n",
       "    <tr>\n",
       "      <td>1334</td>\n",
       "      <td>18</td>\n",
       "      <td>32522.853888</td>\n",
       "      <td>0</td>\n",
       "      <td>2205.98080</td>\n",
       "      <td>1</td>\n",
       "      <td>0</td>\n",
       "      <td>1</td>\n",
       "      <td>0</td>\n",
       "      <td>1</td>\n",
       "      <td>0</td>\n",
       "      <td>0</td>\n",
       "      <td>0</td>\n",
       "    </tr>\n",
       "    <tr>\n",
       "      <td>1335</td>\n",
       "      <td>18</td>\n",
       "      <td>50039.444125</td>\n",
       "      <td>0</td>\n",
       "      <td>1629.83350</td>\n",
       "      <td>1</td>\n",
       "      <td>0</td>\n",
       "      <td>1</td>\n",
       "      <td>0</td>\n",
       "      <td>0</td>\n",
       "      <td>0</td>\n",
       "      <td>1</td>\n",
       "      <td>0</td>\n",
       "    </tr>\n",
       "    <tr>\n",
       "      <td>1336</td>\n",
       "      <td>21</td>\n",
       "      <td>17173.512000</td>\n",
       "      <td>0</td>\n",
       "      <td>2007.94500</td>\n",
       "      <td>1</td>\n",
       "      <td>0</td>\n",
       "      <td>1</td>\n",
       "      <td>0</td>\n",
       "      <td>0</td>\n",
       "      <td>0</td>\n",
       "      <td>0</td>\n",
       "      <td>1</td>\n",
       "    </tr>\n",
       "    <tr>\n",
       "      <td>1337</td>\n",
       "      <td>61</td>\n",
       "      <td>24566.036643</td>\n",
       "      <td>0</td>\n",
       "      <td>29141.36030</td>\n",
       "      <td>1</td>\n",
       "      <td>0</td>\n",
       "      <td>0</td>\n",
       "      <td>1</td>\n",
       "      <td>0</td>\n",
       "      <td>1</td>\n",
       "      <td>0</td>\n",
       "      <td>0</td>\n",
       "    </tr>\n",
       "  </tbody>\n",
       "</table>\n",
       "<p>1338 rows × 12 columns</p>\n",
       "</div>"
      ],
      "text/plain": [
       "      age           bmi  children      charges  sex_female  sex_male  \\\n",
       "0      19  21717.639000         0  16884.92400           1         0   \n",
       "1      18  38511.743633         1   1725.55230           0         1   \n",
       "2      28  35937.000000         3   4449.46200           0         1   \n",
       "3      33  11704.814053         0  21984.47061           0         1   \n",
       "4      32  24087.491072         0   3866.85520           0         1   \n",
       "...   ...           ...       ...          ...         ...       ...   \n",
       "1333   50  29704.593673         3  10600.54830           0         1   \n",
       "1334   18  32522.853888         0   2205.98080           1         0   \n",
       "1335   18  50039.444125         0   1629.83350           1         0   \n",
       "1336   21  17173.512000         0   2007.94500           1         0   \n",
       "1337   61  24566.036643         0  29141.36030           1         0   \n",
       "\n",
       "      smoker_no  smoker_yes  region_northeast  region_northwest  \\\n",
       "0             0           1                 0                 0   \n",
       "1             1           0                 0                 0   \n",
       "2             1           0                 0                 0   \n",
       "3             1           0                 0                 1   \n",
       "4             1           0                 0                 1   \n",
       "...         ...         ...               ...               ...   \n",
       "1333          1           0                 0                 1   \n",
       "1334          1           0                 1                 0   \n",
       "1335          1           0                 0                 0   \n",
       "1336          1           0                 0                 0   \n",
       "1337          0           1                 0                 1   \n",
       "\n",
       "      region_southeast  region_southwest  \n",
       "0                    0                 1  \n",
       "1                    1                 0  \n",
       "2                    1                 0  \n",
       "3                    0                 0  \n",
       "4                    0                 0  \n",
       "...                ...               ...  \n",
       "1333                 0                 0  \n",
       "1334                 0                 0  \n",
       "1335                 1                 0  \n",
       "1336                 0                 1  \n",
       "1337                 0                 0  \n",
       "\n",
       "[1338 rows x 12 columns]"
      ]
     },
     "execution_count": 268,
     "metadata": {},
     "output_type": "execute_result"
    }
   ],
   "source": [
    "one_hot = pd.get_dummies(df[['sex', 'smoker', 'region']])\n",
    "df = df.drop(['sex', 'smoker', 'region'], axis=1)\n",
    "\n",
    "df = df.join(one_hot)\n",
    "df"
   ]
  },
  {
   "cell_type": "code",
   "execution_count": 297,
   "metadata": {},
   "outputs": [],
   "source": [
    "feat = df.drop(['children'], axis=1).copy()\n",
    "cls = df['children']"
   ]
  },
  {
   "cell_type": "code",
   "execution_count": 304,
   "metadata": {},
   "outputs": [
    {
     "data": {
      "text/html": [
       "<div>\n",
       "<style scoped>\n",
       "    .dataframe tbody tr th:only-of-type {\n",
       "        vertical-align: middle;\n",
       "    }\n",
       "\n",
       "    .dataframe tbody tr th {\n",
       "        vertical-align: top;\n",
       "    }\n",
       "\n",
       "    .dataframe thead th {\n",
       "        text-align: right;\n",
       "    }\n",
       "</style>\n",
       "<table border=\"1\" class=\"dataframe\">\n",
       "  <thead>\n",
       "    <tr style=\"text-align: right;\">\n",
       "      <th></th>\n",
       "      <th>age</th>\n",
       "      <th>bmi</th>\n",
       "      <th>charges</th>\n",
       "      <th>sex_female</th>\n",
       "      <th>sex_male</th>\n",
       "      <th>smoker_no</th>\n",
       "      <th>smoker_yes</th>\n",
       "      <th>region_northeast</th>\n",
       "      <th>region_northwest</th>\n",
       "      <th>region_southeast</th>\n",
       "      <th>region_southwest</th>\n",
       "    </tr>\n",
       "  </thead>\n",
       "  <tbody>\n",
       "    <tr>\n",
       "      <td>578</td>\n",
       "      <td>52</td>\n",
       "      <td>27543.608000</td>\n",
       "      <td>9724.53000</td>\n",
       "      <td>0</td>\n",
       "      <td>1</td>\n",
       "      <td>1</td>\n",
       "      <td>0</td>\n",
       "      <td>0</td>\n",
       "      <td>0</td>\n",
       "      <td>0</td>\n",
       "      <td>1</td>\n",
       "    </tr>\n",
       "    <tr>\n",
       "      <td>610</td>\n",
       "      <td>47</td>\n",
       "      <td>25334.470953</td>\n",
       "      <td>8547.69130</td>\n",
       "      <td>1</td>\n",
       "      <td>0</td>\n",
       "      <td>1</td>\n",
       "      <td>0</td>\n",
       "      <td>0</td>\n",
       "      <td>0</td>\n",
       "      <td>1</td>\n",
       "      <td>0</td>\n",
       "    </tr>\n",
       "    <tr>\n",
       "      <td>569</td>\n",
       "      <td>48</td>\n",
       "      <td>66750.487362</td>\n",
       "      <td>45702.02235</td>\n",
       "      <td>0</td>\n",
       "      <td>1</td>\n",
       "      <td>0</td>\n",
       "      <td>1</td>\n",
       "      <td>0</td>\n",
       "      <td>1</td>\n",
       "      <td>0</td>\n",
       "      <td>0</td>\n",
       "    </tr>\n",
       "    <tr>\n",
       "      <td>1034</td>\n",
       "      <td>61</td>\n",
       "      <td>56534.676472</td>\n",
       "      <td>12950.07120</td>\n",
       "      <td>0</td>\n",
       "      <td>1</td>\n",
       "      <td>1</td>\n",
       "      <td>0</td>\n",
       "      <td>0</td>\n",
       "      <td>1</td>\n",
       "      <td>0</td>\n",
       "      <td>0</td>\n",
       "    </tr>\n",
       "    <tr>\n",
       "      <td>198</td>\n",
       "      <td>51</td>\n",
       "      <td>5880.735125</td>\n",
       "      <td>9644.25250</td>\n",
       "      <td>1</td>\n",
       "      <td>0</td>\n",
       "      <td>1</td>\n",
       "      <td>0</td>\n",
       "      <td>0</td>\n",
       "      <td>1</td>\n",
       "      <td>0</td>\n",
       "      <td>0</td>\n",
       "    </tr>\n",
       "    <tr>\n",
       "      <td>...</td>\n",
       "      <td>...</td>\n",
       "      <td>...</td>\n",
       "      <td>...</td>\n",
       "      <td>...</td>\n",
       "      <td>...</td>\n",
       "      <td>...</td>\n",
       "      <td>...</td>\n",
       "      <td>...</td>\n",
       "      <td>...</td>\n",
       "      <td>...</td>\n",
       "      <td>...</td>\n",
       "    </tr>\n",
       "    <tr>\n",
       "      <td>574</td>\n",
       "      <td>57</td>\n",
       "      <td>40335.962222</td>\n",
       "      <td>13224.05705</td>\n",
       "      <td>1</td>\n",
       "      <td>0</td>\n",
       "      <td>1</td>\n",
       "      <td>0</td>\n",
       "      <td>1</td>\n",
       "      <td>0</td>\n",
       "      <td>0</td>\n",
       "      <td>0</td>\n",
       "    </tr>\n",
       "    <tr>\n",
       "      <td>1174</td>\n",
       "      <td>29</td>\n",
       "      <td>33107.082931</td>\n",
       "      <td>4433.91590</td>\n",
       "      <td>0</td>\n",
       "      <td>1</td>\n",
       "      <td>1</td>\n",
       "      <td>0</td>\n",
       "      <td>0</td>\n",
       "      <td>1</td>\n",
       "      <td>0</td>\n",
       "      <td>0</td>\n",
       "    </tr>\n",
       "    <tr>\n",
       "      <td>1327</td>\n",
       "      <td>51</td>\n",
       "      <td>27081.081027</td>\n",
       "      <td>9377.90470</td>\n",
       "      <td>0</td>\n",
       "      <td>1</td>\n",
       "      <td>1</td>\n",
       "      <td>0</td>\n",
       "      <td>0</td>\n",
       "      <td>0</td>\n",
       "      <td>1</td>\n",
       "      <td>0</td>\n",
       "    </tr>\n",
       "    <tr>\n",
       "      <td>817</td>\n",
       "      <td>23</td>\n",
       "      <td>51064.811000</td>\n",
       "      <td>3597.59600</td>\n",
       "      <td>0</td>\n",
       "      <td>1</td>\n",
       "      <td>1</td>\n",
       "      <td>0</td>\n",
       "      <td>0</td>\n",
       "      <td>0</td>\n",
       "      <td>0</td>\n",
       "      <td>1</td>\n",
       "    </tr>\n",
       "    <tr>\n",
       "      <td>1337</td>\n",
       "      <td>61</td>\n",
       "      <td>24566.036643</td>\n",
       "      <td>29141.36030</td>\n",
       "      <td>1</td>\n",
       "      <td>0</td>\n",
       "      <td>0</td>\n",
       "      <td>1</td>\n",
       "      <td>0</td>\n",
       "      <td>1</td>\n",
       "      <td>0</td>\n",
       "      <td>0</td>\n",
       "    </tr>\n",
       "  </tbody>\n",
       "</table>\n",
       "<p>335 rows × 11 columns</p>\n",
       "</div>"
      ],
      "text/plain": [
       "      age           bmi      charges  sex_female  sex_male  smoker_no  \\\n",
       "578    52  27543.608000   9724.53000           0         1          1   \n",
       "610    47  25334.470953   8547.69130           1         0          1   \n",
       "569    48  66750.487362  45702.02235           0         1          0   \n",
       "1034   61  56534.676472  12950.07120           0         1          1   \n",
       "198    51   5880.735125   9644.25250           1         0          1   \n",
       "...   ...           ...          ...         ...       ...        ...   \n",
       "574    57  40335.962222  13224.05705           1         0          1   \n",
       "1174   29  33107.082931   4433.91590           0         1          1   \n",
       "1327   51  27081.081027   9377.90470           0         1          1   \n",
       "817    23  51064.811000   3597.59600           0         1          1   \n",
       "1337   61  24566.036643  29141.36030           1         0          0   \n",
       "\n",
       "      smoker_yes  region_northeast  region_northwest  region_southeast  \\\n",
       "578            0                 0                 0                 0   \n",
       "610            0                 0                 0                 1   \n",
       "569            1                 0                 1                 0   \n",
       "1034           0                 0                 1                 0   \n",
       "198            0                 0                 1                 0   \n",
       "...          ...               ...               ...               ...   \n",
       "574            0                 1                 0                 0   \n",
       "1174           0                 0                 1                 0   \n",
       "1327           0                 0                 0                 1   \n",
       "817            0                 0                 0                 0   \n",
       "1337           1                 0                 1                 0   \n",
       "\n",
       "      region_southwest  \n",
       "578                  1  \n",
       "610                  0  \n",
       "569                  0  \n",
       "1034                 0  \n",
       "198                  0  \n",
       "...                ...  \n",
       "574                  0  \n",
       "1174                 0  \n",
       "1327                 0  \n",
       "817                  1  \n",
       "1337                 0  \n",
       "\n",
       "[335 rows x 11 columns]"
      ]
     },
     "execution_count": 304,
     "metadata": {},
     "output_type": "execute_result"
    }
   ],
   "source": [
    "from sklearn.model_selection import train_test_split\n",
    "\n",
    "x_train, x_test, y_train, y_test = train_test_split(feat, cls, random_state=0)\n",
    "\n",
    "x_train.shape, y_train.shape, x_test.shape, y_test.shape\n",
    "\n",
    "x_test"
   ]
  },
  {
   "cell_type": "markdown",
   "metadata": {},
   "source": [
    "**Part 2)**\n",
    "\n",
    "Predicting the number alone is not very useful. We can do even better by reporting the number like\n",
    "$$\n",
    "    guess \\pm uncertainty\n",
    "$$\n",
    "where the uncertainty should mean something along the line of \"confidence interval\". There are many ways to do this.\n",
    "\n",
    "Compute the uncertainty and briefly justify your method of calculating the uncertainty.\n"
   ]
  },
  {
   "cell_type": "code",
   "execution_count": null,
   "metadata": {},
   "outputs": [],
   "source": []
  },
  {
   "cell_type": "markdown",
   "metadata": {},
   "source": [
    "# Problem 2. Lasso: Gems' idea wan't so crazy after all.\n",
    "\n",
    "In the class we learn regularization with $\\sum w^2$. The fancy name for $\\sum w^2$ is called $L_2$ [norm](https://en.wikipedia.org/wiki/Norm_(mathematics)). The resulting regression is called Ridge Regression or $L_2$ regularization.\n",
    "\n",
    "In this problem we will learn about regularization using $L_1$ norm$ \\sum |w|$. The resulting regression is called Lasso Regression."
   ]
  },
  {
   "cell_type": "markdown",
   "metadata": {},
   "source": [
    "## Part 1)\n",
    "Let us consider a problem of least square fitting a line($guess(x) = mx + c$) to data points $x^{(i)}, y^{(i)}$ for $i=1\\ldots n$ with $L_2$ regularization.\n",
    "\n",
    "### Problem 1.1)\n",
    "Write down the cost function in terms of the given variables. $x^{(i)}, y^{(i)}, m, c, \\lambda$\n",
    "$$\n",
    "cost(m, c) = \\sum_{i=1}^{n}\\ldots + \\lambda \\ldots\n",
    "$$"
   ]
  },
  {
   "cell_type": "markdown",
   "metadata": {},
   "source": [
    "$$\n",
    "cost(m, c) = \\sum_{i=1}^{n} \\left(mx^{(i)} + c - y^{(i)}\\right)^2 + \\lambda m^2\n",
    "$$"
   ]
  },
  {
   "cell_type": "markdown",
   "metadata": {},
   "source": [
    "### Problem 1.2)\n",
    "We are interested in solution for $m$ which minimize the cost function. Show that $m$ must satisfy the following equation.\n",
    "\n",
    "$$\n",
    "    m + \\frac{\\lambda}{B} m = C\n",
    "$$\n",
    "\n",
    "Find B, C in terms of $x^{(i)}, y^{(i)}, c$"
   ]
  },
  {
   "cell_type": "markdown",
   "metadata": {},
   "source": [
    "$$ \n",
    "\\frac{\\partial }{\\partial m}\\left(\\left(mx^{(i)} + c - y^{(i)}\\right)^2 + \\lambda m^2 \\right) = 0\n",
    "$$"
   ]
  },
  {
   "cell_type": "markdown",
   "metadata": {},
   "source": [
    "$$ \n",
    "2x^{(i)}\\left(c + mx^{(i)} - y^{(i)}\\right) + 2\\lambda m = 0\n",
    "$$"
   ]
  },
  {
   "cell_type": "markdown",
   "metadata": {},
   "source": [
    "$$ \n",
    "x^{(i)}\\left(c + mx^{(i)} - y^{(i)}\\right) + \\lambda m = 0\n",
    "$$"
   ]
  },
  {
   "cell_type": "markdown",
   "metadata": {},
   "source": [
    "$$ \n",
    "x^{(i)}c + m\\left(x^{(i)}\\right)^2 - x^{(i)}y^{(i)} + \\lambda m = 0\n",
    "$$"
   ]
  },
  {
   "cell_type": "markdown",
   "metadata": {},
   "source": [
    "$$ \n",
    "m\\left(x^{(i)}\\right)^2 + \\lambda m = x^{(i)}y^{(i)} - x^{(i)}c\n",
    "$$"
   ]
  },
  {
   "cell_type": "markdown",
   "metadata": {},
   "source": [
    "$$ \n",
    "m + \\frac{\\lambda}{\\left(x^{(i)}\\right)^2} m = \\frac{x^{(i)}y^{(i)} - x^{(i)}c}{\\left(x^{(i)}\\right)^2}\n",
    "$$"
   ]
  },
  {
   "cell_type": "markdown",
   "metadata": {},
   "source": [
    "$$ \n",
    "m + \\frac{\\lambda}{\\left(x^{(i)}\\right)^2} m = \\frac{y^{(i)} - c}{x^{(i)}}\n",
    "$$"
   ]
  },
  {
   "cell_type": "markdown",
   "metadata": {},
   "source": [
    "$$\n",
    "B = \\left(x^{(i)}\\right)^2 \\text{; } C = \\frac{y^{(i)} - c}{x^{(i)}}\n",
    "$$"
   ]
  },
  {
   "cell_type": "markdown",
   "metadata": {},
   "source": [
    "### Problem 1.3)\n",
    "\n",
    "It's clear from the above equation that the solution when $\\lambda = 0$ is $m = C$. We will called this $m_{old}$. \n",
    "\n",
    "The goal is to compare the solution when there is $L_2$ regularization($m_{new}$) with the solution when there is no regularization($m_{old}$).\n",
    "\n",
    "**Your task** Show that (find the $\\ldots$ part in terms of $\\lambda, B, C$)\n",
    "\n",
    "$$\n",
    "    m_{new} = \\frac{m_{old}}{\\ldots}\n",
    "$$\n",
    "\n",
    "This means that what $L_2$ regularization does is just rotating/scaling equally the solution so that it becomes nearer to zero. This is the desired effect since we notice that large $w$ typically leads to overfitting.\n",
    "\n",
    "<img src=\"l2reg.png\" width=\"400\"/>\n",
    "\n",
    "\n",
    "\n",
    "\n"
   ]
  },
  {
   "cell_type": "markdown",
   "metadata": {},
   "source": [
    "$$ \n",
    "m + \\frac{\\lambda}{B} m = C\n",
    "$$"
   ]
  },
  {
   "cell_type": "markdown",
   "metadata": {},
   "source": [
    "$$ \n",
    "m\\left(1 + \\frac{\\lambda}{B} \\right) = C\n",
    "$$"
   ]
  },
  {
   "cell_type": "markdown",
   "metadata": {},
   "source": [
    "$$ \n",
    "m\\left(\\frac{B + \\lambda}{B} \\right) = C\n",
    "$$"
   ]
  },
  {
   "cell_type": "markdown",
   "metadata": {},
   "source": [
    "$$ \n",
    "m = C\\left(\\frac{B}{B + \\lambda} \\right)\n",
    "$$"
   ]
  },
  {
   "cell_type": "markdown",
   "metadata": {},
   "source": [
    "$$ \n",
    "m = \\frac{BC}{B + \\lambda}\n",
    "$$"
   ]
  },
  {
   "cell_type": "markdown",
   "metadata": {},
   "source": [
    "$$ \n",
    "m_{new} = \\frac{m_{old}}{\\frac{BC}{B + \\lambda}}\n",
    "$$"
   ]
  },
  {
   "cell_type": "markdown",
   "metadata": {},
   "source": [
    "### Problem 1.4\n",
    "\n",
    "Make the right answer **bold**.\n",
    "\n",
    "1) If $\\lambda$ is large, the answer will get rotated (**more**/less/same).\n",
    "\n",
    "2) The larger $m_{old}$, the new answer from regularization will get *shifted*($abs(m_{new}-m_{old})$) by (more/**less**/the same) amount."
   ]
  },
  {
   "cell_type": "code",
   "execution_count": null,
   "metadata": {},
   "outputs": [],
   "source": []
  },
  {
   "cell_type": "markdown",
   "metadata": {},
   "source": [
    "## Part 2\n",
    "\n",
    "$L_1$ regularization where we use $\\sum |w|$ instead of $\\sum{w^2}$ for regularization term has a similar but stronger effect which is desirable sometimes. This problem will guide you through understanding the behavior."
   ]
  },
  {
   "cell_type": "markdown",
   "metadata": {},
   "source": [
    "# Problem 2.1\n",
    "\n",
    "Let us consider the same problem of least square fitting a line($guess(x) = mx + c$) to data points $x^{(i)}, y^{(i)}$ for $i=1\\ldots n$ but now with $L_1$ regularization.\n",
    "\n",
    "### Problem 2.1)\n",
    "Write down the cost function in terms of the given variables. $x^{(i)}, y^{(i)}, m, c, \\lambda$\n",
    "$$\n",
    "cost(m, c) = \\sum_{i=1}^{n}\\ldots + \\lambda \\ldots\n",
    "$$\n",
    "\n"
   ]
  },
  {
   "cell_type": "markdown",
   "metadata": {},
   "source": [
    "$$\n",
    "cost(m, c) = \\sum_{i=1}^{n} \\left(mx^{(i)} + c - y^{(i)}\\right)^2 + \\lambda |m|\n",
    "$$"
   ]
  },
  {
   "cell_type": "markdown",
   "metadata": {},
   "source": [
    "### Problem 2.2)\n",
    "We are interested in solution for $m$ which minimize the cost function. Show that $m$ must satisfy the following equation.\n",
    "\n",
    "$$\n",
    "    m + \\frac{\\lambda}{B} \\text{sgn}(m) = C\n",
    "$$\n",
    "where $\\text{sgn(m)}$ is a sign function (1 if $m$ is positive, -1 if $m$ is negative, 0 if $m$ is zero)\n",
    "\n",
    "Find B, C in terms of $x^{(i)}, y^{(i)}, c$"
   ]
  },
  {
   "cell_type": "markdown",
   "metadata": {},
   "source": [
    "$$ \n",
    "\\frac{\\partial }{\\partial m}\\left(\\left(mx^{(i)} + c - y^{(i)}\\right)^2 + \\lambda |m| \\right) = 0\n",
    "$$"
   ]
  },
  {
   "cell_type": "markdown",
   "metadata": {},
   "source": [
    "$$ \n",
    "2x^{(i)}\\left(c + mx^{(i)} - y^{(i)}\\right) + \\frac{\\lambda m}{|m|} = 0\n",
    "$$"
   ]
  },
  {
   "cell_type": "markdown",
   "metadata": {},
   "source": [
    "$$ \n",
    "2x^{(i)}\\left(c + mx^{(i)} - y^{(i)}\\right) + \\lambda \\text{ sgn}(m) = 0\n",
    "$$"
   ]
  },
  {
   "cell_type": "markdown",
   "metadata": {},
   "source": [
    "$$ \n",
    "2x^{(i)}c + 2m\\left(x^{(i)}\\right)^2 - 2x^{(i)}y^{(i)} + \\lambda \\text{ sgn}(m) = 0\n",
    "$$"
   ]
  },
  {
   "cell_type": "markdown",
   "metadata": {},
   "source": [
    "$$ \n",
    "2m\\left(x^{(i)}\\right)^2 + \\lambda \\text{ sgn}(m) = 2x^{(i)}y^{(i)} - 2x^{(i)}c\n",
    "$$"
   ]
  },
  {
   "cell_type": "markdown",
   "metadata": {},
   "source": [
    "$$ \n",
    "m + \\frac{\\lambda}{2\\left(x^{(i)}\\right)^2} \\text{ sgn}(m) = \\frac{2x^{(i)}y^{(i)} - 2x^{(i)}c}{2\\left(x^{(i)}\\right)^2}\n",
    "$$"
   ]
  },
  {
   "cell_type": "markdown",
   "metadata": {},
   "source": [
    "$$ \n",
    "m + \\frac{\\lambda}{2\\left(x^{(i)}\\right)^2} \\text{ sgn}(m) = \\frac{y^{(i)} - c}{x^{(i)}}\n",
    "$$"
   ]
  },
  {
   "cell_type": "markdown",
   "metadata": {},
   "source": [
    "$$\n",
    "B = 2\\left(x^{(i)}\\right)^2 \\text{; } C = \\frac{y^{(i)} - c}{x^{(i)}}\n",
    "$$"
   ]
  },
  {
   "cell_type": "markdown",
   "metadata": {},
   "source": [
    "### Problem 2.3)\n",
    "\n",
    "It's clear from the above equation that the solution when $\\lambda = 0$ is $m = C$. We will called this $m_{old}$. \n",
    "\n",
    "The goal is to compare the solution when there is $L_1$ regularization($m_{reg}$) with the solution when there is no regularization($m_{old}$).\n",
    "\n",
    "Once you sketch the plot of $m_{old}$ on $x$ axis against $m_{reg}$ on $y$ axis. You should get a graph that looks like the following.\n",
    "\n",
    "(In the plot $x_{old}$ is $m_{old}$ and $x_{new}$ is $m_{new}$ )\n",
    "\n",
    "<img src=\"l1reg.png\" width=\"400\"/>\n",
    "\n",
    "This means that $L_1$ regularization suppress small value of $m_{old}$ to zero and *shift* the rest down by an equal amount\n",
    "\n",
    "**Your task**  Find $x^+$ and $x^-$ and $\\delta$ in terms of $\\lambda, B, C$\n",
    "\n"
   ]
  },
  {
   "cell_type": "markdown",
   "metadata": {},
   "source": [
    "$$\n",
    "x + \\frac{\\lambda}{B} \\text{ sgn}(x) = C\n",
    "$$"
   ]
  },
  {
   "cell_type": "markdown",
   "metadata": {},
   "source": [
    "$$\n",
    "x^+ = C - \\frac{\\lambda}{B} \\text{ ; } x > 0\n",
    "$$"
   ]
  },
  {
   "cell_type": "markdown",
   "metadata": {},
   "source": [
    "$$\n",
    "x^- = C + \\frac{\\lambda}{B} \\text{ ; } x < 0\n",
    "$$"
   ]
  },
  {
   "cell_type": "markdown",
   "metadata": {},
   "source": [
    "### Problem 2.4\n",
    "Make the right answer bold.\n",
    "From the answer you got in 2.3.\n",
    "\n",
    "1) If we make $\\lambda$ larger, the suppressed range $|x^+-x^-|$ will be (wider,narrower,unaffected).\n",
    "\n",
    "2) If we make $\\lambda$ larger, ther shifted amount $\\delta$ will be (wider,narrower,unaffected).\n",
    "\n",
    "3) Outside the suppressed range, for larger $x_{old}$ the shifted amount will be (wider,narrower,unaffected)."
   ]
  },
  {
   "cell_type": "code",
   "execution_count": null,
   "metadata": {},
   "outputs": [],
   "source": []
  },
  {
   "cell_type": "markdown",
   "metadata": {},
   "source": [
    "## Epilogue.\n",
    "\n",
    "Let us consider a useless feature. The weight for this feature is typically small.\n",
    "\n",
    "$L_2$ regularization will make the weight for this feature smaller. But, $L_1$ supression will bring this down to exactly zero thus completely eliminating useless feature. But the bad things is $\\lambda$ for $L_1$ affect both the suppressed range and the shifted amount. \n",
    "\n",
    "Good news is we can control this by the linear combination of the two\n",
    "$\\lambda_1 \\sum |w| + \\lambda_2 \\sum w^2$. \n",
    "\n",
    "Or some sort of piece wise function ex: [Huber loss](https://en.wikipedia.org/wiki/Huber_loss).\n"
   ]
  },
  {
   "cell_type": "code",
   "execution_count": null,
   "metadata": {},
   "outputs": [],
   "source": []
  }
 ],
 "metadata": {
  "kernelspec": {
   "display_name": "Python 3",
   "language": "python",
   "name": "python3"
  },
  "language_info": {
   "codemirror_mode": {
    "name": "ipython",
    "version": 3
   },
   "file_extension": ".py",
   "mimetype": "text/x-python",
   "name": "python",
   "nbconvert_exporter": "python",
   "pygments_lexer": "ipython3",
   "version": "3.7.4"
  },
  "toc": {
   "colors": {
    "hover_highlight": "#DAA520",
    "running_highlight": "#FF0000",
    "selected_highlight": "#FFD700"
   },
   "moveMenuLeft": true,
   "nav_menu": {
    "height": "11.9886px",
    "width": "251.989px"
   },
   "navigate_menu": true,
   "number_sections": false,
   "sideBar": true,
   "threshold": 4,
   "toc_cell": false,
   "toc_section_display": "block",
   "toc_window_display": false
  }
 },
 "nbformat": 4,
 "nbformat_minor": 2
}
