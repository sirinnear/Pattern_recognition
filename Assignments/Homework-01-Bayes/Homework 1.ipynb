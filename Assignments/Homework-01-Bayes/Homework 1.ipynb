{
 "cells": [
  {
   "cell_type": "markdown",
   "metadata": {},
   "source": [
    "# Problem 1. Mushroom Weight and Height\n",
    "\n",
    "In the class we build a naive bayes classifier which classify whether a mushroom is poisonous or edible. In the class, all the feature are of categorical type; it has a discrete number of outcome as opposed to real number.\n",
    "\n",
    "In this problem we want to explore two ways to deal with real number features for Naive Bayes classifier."
   ]
  },
  {
   "cell_type": "markdown",
   "metadata": {},
   "source": [
    "## The Data\n",
    "The data given to you is very similar to mushroom data. It has three features: cap-color(with the same dictionary we did in class), mushroom-weight(made up by me), mushroom-height(also made up by me).\n",
    "\n",
    "The data is given in\n",
    "`mushrooms_homework_test.csv`\n",
    "and\n",
    "`mushrooms_homework_train.csv`"
   ]
  },
  {
   "cell_type": "markdown",
   "metadata": {},
   "source": [
    "## Task 1.1) Simplest way. Just bin it.\n",
    "\n",
    "The simplest way for dealing with continuous value feature is to discretize it. The simplest way to discretize is just to bin it. For example if your data looks like\n",
    "\n",
    "`data = (0.9, 1.1, 1.2, 2.1, 2.2, 4.2, 5.3, 5.1)`\n",
    "\n",
    "We count bin it with bin edges of \n",
    "\n",
    "`bins = (1, 1.5, 2, 2.5, 3, 3.5, 4, 4.5, 5)`\n",
    "\n",
    "the bin number of a data point $x$ is the index $i$ where `bins[i-1] < x < bins[i]`. If $x$ is less than the minimum of bin edge then the bin number is 0. If $x$ is more than the maximum of bin edge then it's `len(bins)`.\n",
    "\n",
    "Ex the data points above would be turned into\n",
    "`binno = (0, 1, 1, 3, 3, 7, 9, 9)`\n",
    "\n",
    "Once we discretize the value we can just use Bayes Classifier we did in class.\n",
    "\n",
    "**Your task is to build a naive bayes classifier with binned height and binned weight. Pick appropriate bin edges somehow.\n",
    "Then test your algorithm on the test data set. Report how many you got right and wrong in test data**\n"
   ]
  },
  {
   "cell_type": "code",
   "execution_count": 2,
   "metadata": {},
   "outputs": [],
   "source": []
  },
  {
   "cell_type": "markdown",
   "metadata": {},
   "source": [
    "## Task 1.2) Gaussian Naive Bayes.\n",
    "\n",
    "We could assume a certain probability distribution function(pdf) for the conditional probability. One popular choice is normal distrubution/gaussian distribution.\n",
    "\n",
    "Let us understand this assumption intuitively. The idea is that the *weight* of *poisonous* mushroom is normally distributed around some mean with some width while the *weight* for edible mushroom is hopefully normally distributed around some other mean.\n",
    "\n",
    "Let us say that the weight of poisonous mushroom is normally distributed around $2\\pm1$ gram(I made up this number)  while the edible mushroom is normally distributed at $5\\pm 1$ gram. If we found a mushroom of 2.5 gram. It's probably the poisonous one since edible one should weight around 5 gram.\n",
    "\n",
    "<img src=\"gaussian.png\" width=\"400\"/>\n",
    "\n",
    "Concretely, we assume that the probability distribution of feature $X$ given that it is of class $y$ to be\n",
    "\n",
    "$$\n",
    "\\displaystyle\n",
    "pdf(X=x|y) = \\frac{1}{2\\sqrt{\\pi}} \\exp\\left[\\frac{-(x-\\mu_y)^2}{2\\sigma_y^2}\\right]\n",
    "$$\n",
    "\n",
    " - $\\mu_y$ is the mean of feature $X$ given that it is of class $y$. Ex: mean weight($X$) of poisonous mushroom (eg: 2 gram).\n",
    "\n",
    " - $\\sigma_y$ is the standard deviation of feature $X$ given that it is of class $y$. Ex std. dev. of weight of poisonous mushroom(eg: \\pm 1 gram)\n",
    " \n",
    "Recall the relatio between pdf and probability.\n",
    "$$\n",
    "    P(X \\in (x, x+\\delta x)|y) = \\int^{x+\\delta x}_x pdf(X=x) \\;\\text{d}x\n",
    "$$\n",
    "\n",
    "for small enough $\\delta x$ it becomes\n",
    "$$\n",
    "    P(X \\in (x, x+\\delta x)|y) = pdf(X=x) \\delta x\n",
    "$$\n",
    "\n",
    "Now here is the important part. From the above $P(X=x|y)$ and $P(X=x|\\sim y)$ has a factor of $\\delta x$(I drop of the range for brevity). This means that the factor of $\\delta x$ appear in both the numerator and denominator of the formula we use for calculating probability. Thus the $\\delta x$ cancels out nicely. This means that **we can just use pdf(X=x|y) as P(X=x|y)** in naive bayes formula we got and every thing will just work out. We don't have to worry about the $\\delta x$ part\n",
    "\n",
    "**Your task: build a classifier similar to what you did in 1.1. Except now you use gaussian distribution assumption for the continous features. Measure your performance against the test data**"
   ]
  },
  {
   "cell_type": "code",
   "execution_count": null,
   "metadata": {},
   "outputs": [],
   "source": []
  },
  {
   "cell_type": "markdown",
   "metadata": {},
   "source": [
    "# Problem 2. Product Reviews\n",
    "\n",
    "Naive Bayes is quite powerful given its simplicity. Typically the usefulness of a Machine learning Algorithm is limited only by your imgination on what to ask. If you ask an interesting question, you got a useful system. If you ask a dump question, you got a useless system.\n",
    "\n",
    "In this problem we will explore a text mining application using Naive Bayes.\n",
    "\n",
    "The goal of this problem is to make a system that can read customer review and tells whether the customer recommend the product to others or not.\n",
    "\n",
    "The data is stolen from https://www.kaggle.com/nicapotato/womens-ecommerce-clothing-reviews\n",
    "I splitted it into train(`clothing_reviews_train.csv`) and test(`clothing_reviews_test.csv`) for you.\n",
    "\n",
    "The two columns that is relavant to this problem are.\n",
    "- Recommended IND\n",
    "- Title\n",
    "- Review Text\n",
    "\n",
    "**Do not use any other column**\n",
    "\n",
    "You could do challenging version (No extra point except for bragging rights)\n",
    "Use the data from http://jmcauley.ucsd.edu/data/amazon/ and do similar thing --> the book review is hugeeeeee\n"
   ]
  },
  {
   "cell_type": "markdown",
   "metadata": {},
   "source": [
    "## Your task\n",
    "Build a classifier which you can give it a reviewtext and review title and it can split out whether the reviewer recommend the product or not. Measure the performance on test data `clothing_reviews_test.csv`.\n",
    "\n",
    "## Some Guide for you.\n",
    "\n",
    "- Be sure to normalize your text. Example [here](https://machinelearningmastery.com/clean-text-machine-learning-python/). This includes\n",
    "    - lowercase everything\n",
    "    - clean out stop words\n",
    "    - get rid of punctuations\n",
    "    - stem the word\n",
    "    - Yes you may use nltk only for cleaning up part.\n",
    "- Be careful as you are multiplying a whole bunch of small numbers together. You are better off adding the log and exponentiate it back.\n",
    "- Read up lecture notes on spam filtering. Especially on how to deal with missing words. You can read up [old version of excercise 1 from sam](https://github.com/KongsakTi/PatternReg/tree/master/Exercise%201)\n",
    "- **Do not** get stuck on this alone. Find help/Consult your friends if you are stuck. Collaboration is allowed but you must understand what you send in."
   ]
  },
  {
   "cell_type": "code",
   "execution_count": 1,
   "metadata": {},
   "outputs": [],
   "source": [
    "#you are now on your own!!!"
   ]
  }
 ],
 "metadata": {
  "kernelspec": {
   "display_name": "Python 3",
   "language": "python",
   "name": "python3"
  },
  "language_info": {
   "codemirror_mode": {
    "name": "ipython",
    "version": 3
   },
   "file_extension": ".py",
   "mimetype": "text/x-python",
   "name": "python",
   "nbconvert_exporter": "python",
   "pygments_lexer": "ipython3",
   "version": "3.7.0"
  },
  "toc": {
   "colors": {
    "hover_highlight": "#DAA520",
    "running_highlight": "#FF0000",
    "selected_highlight": "#FFD700"
   },
   "moveMenuLeft": true,
   "nav_menu": {
    "height": "138px",
    "width": "252px"
   },
   "navigate_menu": true,
   "number_sections": false,
   "sideBar": true,
   "threshold": 4,
   "toc_cell": false,
   "toc_section_display": "block",
   "toc_window_display": false
  }
 },
 "nbformat": 4,
 "nbformat_minor": 2
}
